{
 "cells": [
  {
   "cell_type": "code",
   "execution_count": null,
   "id": "JvfmQAksoYu-",
   "metadata": {
    "id": "JvfmQAksoYu-"
   },
   "outputs": [],
   "source": [
    "import pandas as pd\n",
    "import matplotlib.pyplot as plt\n",
    "import seaborn as sns\n",
    "import numpy as np\n",
    "import matplotlib.pyplot as plt\n",
    "import seaborn as sns"
   ]
  },
  {
   "cell_type": "code",
   "execution_count": null,
   "id": "NKWTfxisejSY",
   "metadata": {
    "colab": {
     "base_uri": "https://localhost:8080/",
     "height": 612
    },
    "executionInfo": {
     "elapsed": 62358,
     "status": "ok",
     "timestamp": 1749491680844,
     "user": {
      "displayName": "farida banu shaik",
      "userId": "00708887102412880396"
     },
     "user_tz": -330
    },
    "id": "NKWTfxisejSY",
    "outputId": "bee7be68-63a4-4813-ea04-58c458c7fffc"
   },
   "outputs": [],
   "source": [
    "from google.colab import files\n",
    "import io\n",
    "import pandas as pd\n",
    "\n",
    "# Upload CSV file\n",
    "uploaded = files.upload()\n",
    "\n",
    "# Load into DataFrame\n",
    "df = pd.read_csv(io.BytesIO(uploaded[list(uploaded.keys())[0]]))\n",
    "df.head()"
   ]
  },
  {
   "cell_type": "code",
   "execution_count": null,
   "id": "FZKqR_YQnAZq",
   "metadata": {
    "colab": {
     "base_uri": "https://localhost:8080/"
    },
    "executionInfo": {
     "elapsed": 27,
     "status": "ok",
     "timestamp": 1749491680881,
     "user": {
      "displayName": "farida banu shaik",
      "userId": "00708887102412880396"
     },
     "user_tz": -330
    },
    "id": "FZKqR_YQnAZq",
    "outputId": "c8cb64f3-da58-4c49-e585-5d2b7683cd09"
   },
   "outputs": [],
   "source": [
    "# Shape of the dataset\n",
    "print(\"Dataset contains {} rows and {} columns\".format(df.shape[0], df.shape[1]))\n",
    "\n",
    "# Column names\n",
    "print(\"\\nColumn names:\")\n",
    "print(df.columns.tolist())\n",
    "\n",
    "# Basic information about columns (non-null counts, dtypes)\n",
    "print(\"\\nDataset info:\")\n",
    "df.info()\n",
    "\n"
   ]
  },
  {
   "cell_type": "code",
   "execution_count": null,
   "id": "c6c3e04b",
   "metadata": {
    "colab": {
     "base_uri": "https://localhost:8080/"
    },
    "executionInfo": {
     "elapsed": 32,
     "status": "ok",
     "timestamp": 1749491680918,
     "user": {
      "displayName": "farida banu shaik",
      "userId": "00708887102412880396"
     },
     "user_tz": -330
    },
    "id": "c6c3e04b",
    "outputId": "7bd353b0-bd91-436e-d6d1-6cbdb9feb89a"
   },
   "outputs": [],
   "source": [
    "# Check for missing values\n",
    "print(\"There are {} missing values in this dataset\".format(df.isnull().sum().sum()))\n",
    "print('Number of instances = %d' % (df.shape[0]))\n",
    "print('Number of attributes = %d' % (df.shape[1]))\n",
    "print(\"Missing values in each column:\")\n",
    "print(df.isnull().sum())\n",
    "\n",
    "# Drop rows with too many missing values or fill if appropriate\n",
    "df = df.dropna(subset=['drug_name', 'medical_condition', 'rating'])\n",
    "df.reset_index(drop=True, inplace=True)\n"
   ]
  },
  {
   "cell_type": "code",
   "execution_count": null,
   "id": "e892bc6e",
   "metadata": {
    "colab": {
     "base_uri": "https://localhost:8080/",
     "height": 483
    },
    "executionInfo": {
     "elapsed": 85,
     "status": "ok",
     "timestamp": 1749491681009,
     "user": {
      "displayName": "farida banu shaik",
      "userId": "00708887102412880396"
     },
     "user_tz": -330
    },
    "id": "e892bc6e",
    "outputId": "25a3a58b-b86d-4d08-e156-11dd0ae72cc7"
   },
   "outputs": [],
   "source": [
    "# Summary statistics\n",
    "summary_stats = df.describe(include='all')\n",
    "summary_stats\n"
   ]
  },
  {
   "cell_type": "code",
   "execution_count": null,
   "id": "bHLt3PMvpL8_",
   "metadata": {
    "colab": {
     "base_uri": "https://localhost:8080/",
     "height": 90
    },
    "executionInfo": {
     "elapsed": 42,
     "status": "ok",
     "timestamp": 1749491681055,
     "user": {
      "displayName": "farida banu shaik",
      "userId": "00708887102412880396"
     },
     "user_tz": -330
    },
    "id": "bHLt3PMvpL8_",
    "outputId": "f67373f4-dac5-4ea8-bcf8-397569ca3074"
   },
   "outputs": [],
   "source": [
    "# Find duplicate rows based on all columns\n",
    "duplicate_rows = df[df.duplicated()]\n",
    "\n",
    "# Count the number of duplicate rows\n",
    "duplicate_count = duplicate_rows.shape[0]\n",
    "\n",
    "# Print the count\n",
    "print(\"Number of duplicate rows in the dataset:\", duplicate_count)\n",
    "duplicate_rows.head()\n"
   ]
  },
  {
   "cell_type": "code",
   "execution_count": null,
   "id": "5784354c",
   "metadata": {
    "colab": {
     "base_uri": "https://localhost:8080/",
     "height": 507
    },
    "executionInfo": {
     "elapsed": 386,
     "status": "ok",
     "timestamp": 1749491681446,
     "user": {
      "displayName": "farida banu shaik",
      "userId": "00708887102412880396"
     },
     "user_tz": -330
    },
    "id": "5784354c",
    "outputId": "f9287fba-6299-431c-e7ce-5b27321ebe80"
   },
   "outputs": [],
   "source": [
    "# Distribution of Ratings\n",
    "plt.figure(figsize=(8, 5))\n",
    "sns.histplot(df['rating'], bins=10, kde=True)\n",
    "plt.title('Distribution of Drug Ratings')\n",
    "plt.xlabel('Rating')\n",
    "plt.ylabel('Frequency')\n",
    "plt.tight_layout()\n",
    "plt.show()\n"
   ]
  },
  {
   "cell_type": "code",
   "execution_count": null,
   "id": "WIuxvbOnp3RV",
   "metadata": {
    "colab": {
     "base_uri": "https://localhost:8080/"
    },
    "executionInfo": {
     "elapsed": 14,
     "status": "ok",
     "timestamp": 1749491681463,
     "user": {
      "displayName": "farida banu shaik",
      "userId": "00708887102412880396"
     },
     "user_tz": -330
    },
    "id": "WIuxvbOnp3RV",
    "outputId": "6474a0f3-f117-472c-c29a-d0ff1f7c8425"
   },
   "outputs": [],
   "source": [
    "# Convert 'activity' to string, remove whitespace and '%' symbol\n",
    "df['activity'] = df['activity'].astype(str).str.strip().str.replace('%', '')\n",
    "\n",
    "# Convert to float and divide by 100\n",
    "df['activity'] = pd.to_numeric(df['activity'], errors='coerce') / 100\n",
    "\n",
    "# Display the updated 'activity' column\n",
    "print(df['activity'].head())\n"
   ]
  },
  {
   "cell_type": "code",
   "execution_count": null,
   "id": "cfb4f5a0",
   "metadata": {
    "colab": {
     "base_uri": "https://localhost:8080/",
     "height": 304
    },
    "executionInfo": {
     "elapsed": 51,
     "status": "ok",
     "timestamp": 1749491681510,
     "user": {
      "displayName": "farida banu shaik",
      "userId": "00708887102412880396"
     },
     "user_tz": -330
    },
    "id": "cfb4f5a0",
    "outputId": "bb552d0b-cd26-470e-fbcd-18035416c695"
   },
   "outputs": [],
   "source": [
    "# Top drugs by condition\n",
    "top_drugs_by_condition = df.groupby(['medical_condition', 'drug_name']).size().unstack(fill_value=0)\n",
    "top_drugs_by_condition.head()\n"
   ]
  },
  {
   "cell_type": "code",
   "execution_count": null,
   "id": "SfUTCdjysbie",
   "metadata": {
    "colab": {
     "base_uri": "https://localhost:8080/",
     "height": 807
    },
    "executionInfo": {
     "elapsed": 370,
     "status": "ok",
     "timestamp": 1749491681878,
     "user": {
      "displayName": "farida banu shaik",
      "userId": "00708887102412880396"
     },
     "user_tz": -330
    },
    "id": "SfUTCdjysbie",
    "outputId": "9ba4bb8a-9270-4426-9649-e01354084935"
   },
   "outputs": [],
   "source": [
    "# Compute correlation matrix for numeric columns only\n",
    "corr_matrix = df.corr(numeric_only=True)\n",
    "\n",
    "# Plot heatmap\n",
    "plt.figure(figsize=(10, 8))\n",
    "sns.heatmap(\n",
    "    corr_matrix,\n",
    "    annot=True,\n",
    "    cmap='coolwarm',\n",
    "    fmt=\".2f\",\n",
    "    linewidths=0.5,\n",
    "    cbar_kws={\"shrink\": 0.8}\n",
    ")\n",
    "plt.xticks(rotation=45, ha='right')   # Rotate x-axis labels\n",
    "plt.yticks(rotation=0)                # Keep y-axis labels horizontal\n",
    "plt.title('Correlation Heatmap', fontsize=16)\n",
    "plt.tight_layout()\n",
    "plt.show()\n",
    "\n"
   ]
  },
  {
   "cell_type": "code",
   "execution_count": null,
   "id": "d0nFHaBRuYeE",
   "metadata": {
    "colab": {
     "base_uri": "https://localhost:8080/"
    },
    "executionInfo": {
     "elapsed": 24,
     "status": "ok",
     "timestamp": 1749491681908,
     "user": {
      "displayName": "farida banu shaik",
      "userId": "00708887102412880396"
     },
     "user_tz": -330
    },
    "id": "d0nFHaBRuYeE",
    "outputId": "0832bb79-2c02-42c7-c738-bb2bd580ca27"
   },
   "outputs": [],
   "source": [
    "# Count the frequency of each medical condition\n",
    "condition_counts = df['medical_condition'].value_counts()\n",
    "\n",
    "# Display top 10 most common medical conditions\n",
    "print(\"Top 10 medical conditions by frequency:\")\n",
    "print(condition_counts.head(10))\n"
   ]
  },
  {
   "cell_type": "code",
   "execution_count": null,
   "id": "tYJOyuRGwpGC",
   "metadata": {
    "colab": {
     "base_uri": "https://localhost:8080/",
     "height": 407
    },
    "executionInfo": {
     "elapsed": 195,
     "status": "ok",
     "timestamp": 1749491682112,
     "user": {
      "displayName": "farida banu shaik",
      "userId": "00708887102412880396"
     },
     "user_tz": -330
    },
    "id": "tYJOyuRGwpGC",
    "outputId": "c505b93a-9bef-4f44-d04e-540ffe862021"
   },
   "outputs": [],
   "source": [
    "# Create boolean series for 'hives' in side_effects\n",
    "df['side_effects_clean'] = df['side_effects'].astype(str).str.lower()\n",
    "hives_present = df['side_effects_clean'].str.contains('hives')\n",
    "\n",
    "# Count True and False\n",
    "hives_counts = hives_present.value_counts()\n",
    "\n",
    "# Plotting\n",
    "plt.figure(figsize=(6, 4))\n",
    "hives_counts.plot(kind='bar', color=['tomato', 'lightgreen'])\n",
    "plt.title(\"count of Hives\")\n",
    "plt.xlabel(\"Contains 'Hives'\")\n",
    "plt.ylabel(\"Count\")\n",
    "plt.xticks(ticks=[0, 1], labels=['False', 'True'], rotation=0)\n",
    "plt.tight_layout()\n",
    "plt.show()\n"
   ]
  },
  {
   "cell_type": "code",
   "execution_count": null,
   "id": "g-6t6Pw40kH2",
   "metadata": {
    "colab": {
     "base_uri": "https://localhost:8080/",
     "height": 407
    },
    "executionInfo": {
     "elapsed": 306,
     "status": "ok",
     "timestamp": 1749491682416,
     "user": {
      "displayName": "farida banu shaik",
      "userId": "00708887102412880396"
     },
     "user_tz": -330
    },
    "id": "g-6t6Pw40kH2",
    "outputId": "a2dabb43-bcc0-4d8a-c4df-542c2636ed74"
   },
   "outputs": [],
   "source": [
    "# Normalize side effects column to lowercase\n",
    "df['side_effects_clean'] = df['side_effects'].astype(str).str.lower()\n",
    "\n",
    "# Create boolean series for 'difficult breathing'\n",
    "breathing_present = df['side_effects_clean'].str.contains('difficult breathing')\n",
    "breathing_counts = breathing_present.value_counts()\n",
    "\n",
    "# Plot\n",
    "import matplotlib.pyplot as plt\n",
    "\n",
    "plt.figure(figsize=(6, 4))\n",
    "breathing_counts.plot(kind='bar', color=['tomato', 'lightblue'])\n",
    "plt.title(\"Presence of 'Difficult Breathing' in Side Effects\")\n",
    "plt.xlabel(\"Contains 'Difficult Breathing'\")\n",
    "plt.ylabel(\"Count\")\n",
    "plt.xticks(ticks=[0, 1], labels=['False', 'True'], rotation=0)\n",
    "plt.tight_layout()\n",
    "plt.show()\n"
   ]
  },
  {
   "cell_type": "code",
   "execution_count": null,
   "id": "EiY9JGVn0rsd",
   "metadata": {
    "colab": {
     "base_uri": "https://localhost:8080/",
     "height": 407
    },
    "executionInfo": {
     "elapsed": 265,
     "status": "ok",
     "timestamp": 1749491682689,
     "user": {
      "displayName": "farida banu shaik",
      "userId": "00708887102412880396"
     },
     "user_tz": -330
    },
    "id": "EiY9JGVn0rsd",
    "outputId": "f694c892-b116-474c-9aa1-54e16df41abe"
   },
   "outputs": [],
   "source": [
    "# Create boolean series for 'itching'\n",
    "itching_present = df['side_effects_clean'].str.contains('itching')\n",
    "itching_counts = itching_present.value_counts()\n",
    "\n",
    "# Plot\n",
    "plt.figure(figsize=(6, 4))\n",
    "itching_counts.plot(kind='bar', color=['orange', 'lightgreen'])\n",
    "plt.title(\"Presence of 'Itching' in Side Effects\")\n",
    "plt.xlabel(\"Contains 'Itching'\")\n",
    "plt.ylabel(\"Count\")\n",
    "plt.xticks(ticks=[0, 1], labels=['False', 'True'], rotation=0)\n",
    "plt.tight_layout()\n",
    "plt.show()"
   ]
  },
  {
   "cell_type": "code",
   "execution_count": null,
   "id": "78d81dda",
   "metadata": {
    "colab": {
     "base_uri": "https://localhost:8080/"
    },
    "executionInfo": {
     "elapsed": 17,
     "status": "ok",
     "timestamp": 1749491682713,
     "user": {
      "displayName": "farida banu shaik",
      "userId": "00708887102412880396"
     },
     "user_tz": -330
    },
    "id": "78d81dda",
    "outputId": "8f1a3c0b-0cde-4c95-b470-78675a36b18f"
   },
   "outputs": [],
   "source": [
    "# Side Effects Analysis (if 'sideEffects' column exists)\n",
    "if 'sideEffects' in df.columns:\n",
    "    side_effects_count = df['sideEffects'].value_counts()\n",
    "    print(side_effects_count.head(10))\n",
    "else:\n",
    "    print(\"Side Effects column not available in dataset.\")\n"
   ]
  },
  {
   "cell_type": "code",
   "execution_count": null,
   "id": "ad88b257",
   "metadata": {
    "colab": {
     "base_uri": "https://localhost:8080/"
    },
    "executionInfo": {
     "elapsed": 19,
     "status": "ok",
     "timestamp": 1749491682737,
     "user": {
      "displayName": "farida banu shaik",
      "userId": "00708887102412880396"
     },
     "user_tz": -330
    },
    "id": "ad88b257",
    "outputId": "6ea702d1-4d8b-4386-c6ed-d20fdba87b38"
   },
   "outputs": [],
   "source": [
    "# Drug Ratings by Class (if 'drugClass' exists)\n",
    "if 'drugClass' in df.columns:\n",
    "    avg_rating_by_class = df.groupby('drugClass')['rating'].mean()\n",
    "    print(avg_rating_by_class)\n",
    "else:\n",
    "    print(\"Drug Class column not available in dataset.\")\n"
   ]
  },
  {
   "cell_type": "markdown",
   "id": "6d05da16",
   "metadata": {
    "id": "6d05da16"
   },
   "source": [
    "### Conclusion\n",
    "- Dataset cleaned and explored.\n",
    "- Distribution of ratings analyzed.\n",
    "- Top drugs by medical condition identified.\n",
    "- Common side effects and average ratings per drug class extracted where applicable.\n",
    "\n",
    "### Next Steps\n",
    "- Apply machine learning models to predict ratings or classify conditions.\n",
    "- Create an interactive dashboard using Tableau, Power BI, or Plotly Dash.\n",
    "- Integrate SQL-based queries for database operations.\n"
   ]
  }
 ],
 "metadata": {
  "colab": {
   "provenance": [
    {
     "file_id": "1lkI7DSqYsdh5TzUwLDm2NwklhDTMG4Qh",
     "timestamp": 1749492727245
    }
   ]
  },
  "kernelspec": {
   "display_name": "Python 3",
   "name": "python3"
  },
  "language_info": {
   "name": "python"
  }
 },
 "nbformat": 4,
 "nbformat_minor": 5
}
